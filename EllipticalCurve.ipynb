{
 "cells": [
  {
   "cell_type": "markdown",
   "metadata": {},
   "source": [
    "# Elliptic Curve Cryptography\n",
    "\n",
    "This file is only here for reference"
   ]
  },
  {
   "cell_type": "markdown",
   "metadata": {},
   "source": [
    "### Elliptic Curves"
   ]
  },
  {
   "cell_type": "markdown",
   "metadata": {},
   "source": [
    "An elliptic curve over a field $K$ is a curve defined by an equation of the form:\n",
    "\n",
    "\\begin{equation}\n",
    "\\begin{split}\n",
    "   y^2= x^3 + ax +b\\\\\n",
    "\\end{split}\n",
    "\\end{equation}\n",
    "\n",
    "where $a, b \\in K$ and $−16(4a^3 + 27b^2) \\neq 0$"
   ]
  },
  {
   "cell_type": "markdown",
   "metadata": {},
   "source": [
    "### Importing necessary modules"
   ]
  },
  {
   "cell_type": "code",
   "execution_count": 31,
   "metadata": {},
   "outputs": [],
   "source": [
    "import numpy as np\n",
    "import matplotlib.pyplot as plt\n",
    "inf = \"Infinity\""
   ]
  },
  {
   "cell_type": "markdown",
   "metadata": {},
   "source": [
    "### Making some helper functions"
   ]
  },
  {
   "cell_type": "code",
   "execution_count": 32,
   "metadata": {},
   "outputs": [],
   "source": [
    "def Mod(x,p):\n",
    "    return x%p"
   ]
  },
  {
   "cell_type": "markdown",
   "metadata": {},
   "source": [
    "##### We know if gcd(e, m) = 1, then $ed ≡ 1$ mod  $m$ has a unique solution:\n",
    "$$gcd(e,m) = ex+my = 1$$\n",
    "##### From this we can calculate $d$\n",
    "##### To calculate $x$ and $y$, we extend the algorithm\n",
    "##### Let $e = qm + r$ such that $0 <= r < m$. Then\n",
    "$$g = um + vr$$\n",
    "$$= um + v(e − qm)$$\n",
    "$$= ve + (u − qv)m$$\n",
    "##### Thus we can take $x = v$ and $y = u − qv$"
   ]
  },
  {
   "cell_type": "code",
   "execution_count": 33,
   "metadata": {},
   "outputs": [],
   "source": [
    "def extended_euclid(m,n):\n",
    "        if n == 0:\n",
    "            return (m,1,0)\n",
    "        else:\n",
    "            q = m // n\n",
    "            r = m % n\n",
    "            (g,u,v) = extended_euclid(n,r)\n",
    "        return (g,v,u-q*v)\n",
    "\n",
    "def inv(s,p):\n",
    "        (g,x,y) = extended_euclid(s,p)\n",
    "        if (g != 1):\n",
    "            return (0) \n",
    "        else:\n",
    "            return(x % p)"
   ]
  },
  {
   "cell_type": "code",
   "execution_count": 34,
   "metadata": {},
   "outputs": [
    {
     "data": {
      "text/plain": [
       "1"
      ]
     },
     "execution_count": 34,
     "metadata": {},
     "output_type": "execute_result"
    }
   ],
   "source": [
    "# checking the inverse\n",
    "Mod(Mod(7,13)*inv(7,13),13)"
   ]
  },
  {
   "cell_type": "markdown",
   "metadata": {},
   "source": [
    "### Creating a class for Elliptic Curves"
   ]
  },
  {
   "cell_type": "code",
   "execution_count": 35,
   "metadata": {},
   "outputs": [],
   "source": [
    "class ECC:\n",
    "    \n",
    "\n",
    "    def __init__(self,a,b,p):\n",
    "        self.a = a\n",
    "        self.b = b\n",
    "        self.p = p\n",
    "        self.points = []\n",
    "        self.Points()\n",
    "\n",
    "\n",
    "    def Points(self):\n",
    "        self.points.append(inf)\n",
    "        for x in range(self.p):\n",
    "            for y in range(self.p):\n",
    "\n",
    "                if Mod(pow(y,2) - (pow(x,3)+(self.a*x)+self.b), self.p) == 0:\n",
    "                    if (x,y) not in self.points:\n",
    "                        self.points.append((x,y))\n",
    "        return self.points\n",
    "\n",
    "\n",
    "    def slope(self, A, B):\n",
    "        x1,y1 = A\n",
    "        x2,y2 = B\n",
    "        gamma = inf\n",
    "        \n",
    "        if A == B:\n",
    "            gamma = (3*pow(x1,2) + self.a) * inv(2*y1, self.p)\n",
    "\n",
    "        else:\n",
    "            gamma = (y2-y1)*inv(x2-x1, self.p)\n",
    "\n",
    "        if x1 == x2 and y1 != y2:\n",
    "            gamma = inf\n",
    "        \n",
    "        return gamma\n",
    "\n",
    "\n",
    "    def add(self, A, B):\n",
    "        if A == inf:\n",
    "            return B\n",
    "        elif B == inf:\n",
    "            return A\n",
    "        else:\n",
    "            x1,y1 = A\n",
    "            x2,y2 = B\n",
    "            S = self.slope(A,B)\n",
    "            if S == inf:\n",
    "                return inf\n",
    "            else:\n",
    "                x3 = pow(S,2) - x1 - x2\n",
    "                y3 = S*(x1-x3) - y1\n",
    "\n",
    "                x3 = Mod(x3,self.p)\n",
    "                y3 = Mod(y3,self.p)\n",
    "\n",
    "                return (x3,y3)\n",
    "\n",
    "\n",
    "    def pointDoubler(self, A):\n",
    "        if A == inf:\n",
    "            return inf\n",
    "        else:\n",
    "            x1,y1 = A\n",
    "            x2,y2 = A\n",
    "            S = (3*pow(x1,2) + self.a) * inv(2*y1, self.p)\n",
    "            if S == inf:\n",
    "                return inf\n",
    "            else:\n",
    "                x3 = pow(S,2) - x1 - x2\n",
    "                y3 = S*(x1-x3) - y1\n",
    "\n",
    "                x3 = Mod(x3,self.p)\n",
    "                y3 = Mod(y3,self.p)\n",
    "\n",
    "                return (x3,y3)\n",
    "\n",
    "    def binary_mode(self, k):\n",
    "        K = bin(k)[2:]\n",
    "        res =[int(x) for x in K]\n",
    "        return res[::-1]\n",
    "    \n",
    "    def power_check(self, k):\n",
    "        V = []\n",
    "        K = self.binary_mode(k)\n",
    "        for i in range(0,len(K)):\n",
    "            if K[i] == 1:\n",
    "                V.append(i)\n",
    "        return V\n",
    "\n",
    "    def power_mult(self,P,k):\n",
    "        # P \n",
    "        while k >0:\n",
    "            P = self.pointDoubler(P)\n",
    "            k -= 1\n",
    "        return P\n",
    "\n",
    "    def super_mult(self,P,k):\n",
    "        product = inf\n",
    "        if k == 0:\n",
    "            return (0,0)\n",
    "        else:\n",
    "            K = self.power_check(k)\n",
    "            for i in K:\n",
    "                X = self.power_mult(P,i)\n",
    "                product = self.add(X,product)\n",
    "        return product\n"
   ]
  },
  {
   "cell_type": "markdown",
   "metadata": {},
   "source": [
    "### Creating an ECC"
   ]
  },
  {
   "cell_type": "code",
   "execution_count": 36,
   "metadata": {},
   "outputs": [
    {
     "name": "stdout",
     "output_type": "stream",
     "text": [
      "['Infinity', (0, 1), (0, 16), (4, 1), (4, 16), (6, 6), (6, 11), (9, 5), (9, 12), (10, 5), (10, 12), (11, 0), (13, 1), (13, 16), (15, 5), (15, 12), (16, 4), (16, 13), 'Infinity']\n"
     ]
    }
   ],
   "source": [
    "EC = ECC(1,1, 17)\n",
    "\n",
    "Points = EC.Points()\n",
    "print(Points)"
   ]
  },
  {
   "cell_type": "markdown",
   "metadata": {},
   "source": [
    "### Binary Operations"
   ]
  },
  {
   "cell_type": "markdown",
   "metadata": {},
   "source": [
    "#### Addition"
   ]
  },
  {
   "cell_type": "markdown",
   "metadata": {},
   "source": [
    "If $P = (x_1, y_1) \\in E$ then $−P = x_1,−y_1$ \\\n",
    "\\\n",
    "If $Q = (x_2, y_2) \\in E, Q = −P,$ then\n",
    "$$P + Q = (x_3, y_3)$$\n",
    "\n",
    "where $x_3 = \\lambda^2 −x_1 −x_2, y_3 = \\lambda(x_1−x_3)−y_1 $ \n",
    "\n",
    "and\n",
    "\n",
    "$$\\lambda = (y_2 - y_1)/(x_2 - x_1)$$ \n",
    "if $P \\neq Q$\n",
    "$$\\lambda = (3x_1^2+a)/2y_1$$ \n",
    "if $P = Q$"
   ]
  },
  {
   "cell_type": "code",
   "execution_count": 38,
   "metadata": {},
   "outputs": [
    {
     "data": {
      "text/plain": [
       "(13, 16)"
      ]
     },
     "execution_count": 38,
     "metadata": {},
     "output_type": "execute_result"
    }
   ],
   "source": [
    "EC.add(Points[2], Points[2])"
   ]
  },
  {
   "cell_type": "code",
   "execution_count": 39,
   "metadata": {},
   "outputs": [
    {
     "data": {
      "text/plain": [
       "(13, 16)"
      ]
     },
     "execution_count": 39,
     "metadata": {},
     "output_type": "execute_result"
    }
   ],
   "source": [
    "EC.pointDoubler(Points[2])"
   ]
  },
  {
   "cell_type": "markdown",
   "metadata": {},
   "source": [
    "#### Multiplication"
   ]
  },
  {
   "cell_type": "code",
   "execution_count": 51,
   "metadata": {},
   "outputs": [
    {
     "data": {
      "text/plain": [
       "(4, 16)"
      ]
     },
     "execution_count": 51,
     "metadata": {},
     "output_type": "execute_result"
    }
   ],
   "source": [
    "EC.super_mult(Points[1],21)"
   ]
  },
  {
   "cell_type": "markdown",
   "metadata": {},
   "source": [
    "### Plotting it"
   ]
  },
  {
   "cell_type": "code",
   "execution_count": 41,
   "metadata": {},
   "outputs": [
    {
     "data": {
      "image/png": "[encoded data removed]",
      "text/plain": [
       "<Figure size 432x288 with 1 Axes>"
      ]
     },
     "metadata": {
      "needs_background": "light"
     },
     "output_type": "display_data"
    }
   ],
   "source": [
    "X = []\n",
    "for i in Points:\n",
    "    if i == inf:\n",
    "        pass\n",
    "    else:\n",
    "        X.append(i[0])\n",
    "Y = []\n",
    "for i in Points:\n",
    "    if i == inf:\n",
    "        pass\n",
    "    else:\n",
    "        Y.append(i[1])\n",
    "plt.scatter(X,Y)\n",
    "plt.grid()"
   ]
  }
 ],
 "metadata": {
  "kernelspec": {
   "display_name": "Python 3 (ipykernel)",
   "language": "python",
   "name": "python3"
  },
  "language_info": {
   "codemirror_mode": {
    "name": "ipython",
    "version": 3
   },
   "file_extension": ".py",
   "mimetype": "text/x-python",
   "name": "python",
   "nbconvert_exporter": "python",
   "pygments_lexer": "ipython3",
   "version": "3.9.7"
  },
  "vscode": {
   "interpreter": {
    "hash": "cf36844fffeb11783a914f98448720fb0893899eb07759e4a0e32f8519f6ff78"
   }
  }
 },
 "nbformat": 4,
 "nbformat_minor": 2
}
