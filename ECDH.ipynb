{
 "cells": [
  {
   "cell_type": "markdown",
   "metadata": {},
   "source": [
    "# Elliptical Cryptography - Diffe-Hellman"
   ]
  },
  {
   "cell_type": "markdown",
   "metadata": {},
   "source": [
    "### Importing the necessary modules"
   ]
  },
  {
   "cell_type": "code",
   "execution_count": 26,
   "metadata": {},
   "outputs": [],
   "source": [
    "from EllipticalCurve import *\n",
    "import random\n",
    "import numpy as np\n",
    "from math import ceil, floor, log\n",
    "import matplotlib.pyplot as plt"
   ]
  },
  {
   "cell_type": "markdown",
   "metadata": {},
   "source": [
    "## Creating Generator"
   ]
  },
  {
   "cell_type": "markdown",
   "metadata": {},
   "source": [
    "### Ferman Test to check primality"
   ]
  },
  {
   "cell_type": "code",
   "execution_count": 27,
   "metadata": {},
   "outputs": [],
   "source": [
    "def checkPrime(a):\n",
    "    if a==2:\n",
    "        return True\n",
    "    i=0\n",
    "    while i<5:\n",
    "        p=np.random.randint(2,20)\n",
    "        if pow(p,a-1,a)!=1:\n",
    "            return False\n",
    "        else:\n",
    "            return True\n",
    "        i+=1"
   ]
  },
  {
   "cell_type": "markdown",
   "metadata": {},
   "source": [
    "### Generating a Prime Number"
   ]
  },
  {
   "cell_type": "code",
   "execution_count": 28,
   "metadata": {},
   "outputs": [],
   "source": [
    "def LargePrime(k):  \n",
    "    \n",
    "    b=100*(log(k,2)+1) #number of attempts max\n",
    "    while b>0:\n",
    "        n = random.randrange(2**(k-1),2**(k))\n",
    "        b-=1\n",
    "        if checkPrime(n) == True:\n",
    "            return n\n",
    "    return \"Failure in computing\""
   ]
  },
  {
   "cell_type": "markdown",
   "metadata": {},
   "source": [
    "### Creating a prime number $p$"
   ]
  },
  {
   "cell_type": "code",
   "execution_count": 29,
   "metadata": {},
   "outputs": [
    {
     "data": {
      "text/plain": [
       "967"
      ]
     },
     "execution_count": 29,
     "metadata": {},
     "output_type": "execute_result"
    }
   ],
   "source": [
    "p = LargePrime(10) #to have a prime number >= 128, which are the same number of characters in the ASCII table, so that infinity does not come\n",
    "p"
   ]
  },
  {
   "cell_type": "markdown",
   "metadata": {},
   "source": [
    "### Creating an ECC"
   ]
  },
  {
   "cell_type": "code",
   "execution_count": 30,
   "metadata": {},
   "outputs": [],
   "source": [
    "def ECC_Variables(k = 10):\n",
    "    a = random.randint(0,pow(2,k-1))\n",
    "    b = random.randint(0,pow(2,k-1))\n",
    "    c = 4*pow(a,3) + 27*pow(b,2)\n",
    "    if c == 0:\n",
    "        ECC_Variables()\n",
    "    else:\n",
    "        return a,b\n",
    "\n",
    "X,Y = ECC_Variables()"
   ]
  },
  {
   "cell_type": "markdown",
   "metadata": {},
   "source": [
    "### Declaring $E$"
   ]
  },
  {
   "cell_type": "code",
   "execution_count": 31,
   "metadata": {},
   "outputs": [],
   "source": [
    "E = ECC(X,Y,p)"
   ]
  },
  {
   "cell_type": "markdown",
   "metadata": {},
   "source": [
    "### Declaring $G$"
   ]
  },
  {
   "cell_type": "code",
   "execution_count": 32,
   "metadata": {},
   "outputs": [],
   "source": [
    "def GenCheck(G):\n",
    "    n = []\n",
    "    for i in range(p+1):\n",
    "        if E.super_mult(G,i) == inf:\n",
    "            n.append(i)\n",
    "    if len(n) == 1:\n",
    "        if n[0] > 0:\n",
    "            return True\n",
    "    else:\n",
    "        return False\n",
    "\n",
    "def Gen():\n",
    "    E_g = E.points\n",
    "    G = random.choice(E_g)\n",
    "    while GenCheck(G) != True:\n",
    "        E_g.remove(G)\n",
    "        G = random.choice(E_g)\n",
    "    if G == None:\n",
    "        a = \"No Generator Found\"\n",
    "        return a\n",
    "    return G\n",
    "\n",
    "G = Gen()\n",
    "#get checked\n",
    "\n",
    "##Researched and found that to make a G is actually a very very tough"
   ]
  },
  {
   "cell_type": "code",
   "execution_count": 33,
   "metadata": {},
   "outputs": [
    {
     "name": "stdout",
     "output_type": "stream",
     "text": [
      "496\n"
     ]
    }
   ],
   "source": [
    "#testing G\n",
    "for i in range(p):\n",
    "    if E.super_mult(G,i) == inf:\n",
    "        print(i)\n",
    "\n",
    "#Cyclic Group Order"
   ]
  },
  {
   "cell_type": "markdown",
   "metadata": {},
   "source": [
    "## Creating Public Keys"
   ]
  },
  {
   "cell_type": "code",
   "execution_count": 34,
   "metadata": {},
   "outputs": [],
   "source": [
    "def randomInteger(k = 6):\n",
    "    a = random.randint(0,pow(2,k-1))\n",
    "    return a"
   ]
  },
  {
   "cell_type": "markdown",
   "metadata": {},
   "source": [
    "### A"
   ]
  },
  {
   "cell_type": "code",
   "execution_count": 35,
   "metadata": {},
   "outputs": [
    {
     "data": {
      "text/plain": [
       "(795, 392)"
      ]
     },
     "execution_count": 35,
     "metadata": {},
     "output_type": "execute_result"
    }
   ],
   "source": [
    "a = randomInteger() #private key\n",
    "\n",
    "A = E.super_mult(G,a)\n",
    "A #public key"
   ]
  },
  {
   "cell_type": "markdown",
   "metadata": {},
   "source": [
    "### B"
   ]
  },
  {
   "cell_type": "code",
   "execution_count": 36,
   "metadata": {},
   "outputs": [
    {
     "data": {
      "text/plain": [
       "(484, 364)"
      ]
     },
     "execution_count": 36,
     "metadata": {},
     "output_type": "execute_result"
    }
   ],
   "source": [
    "b = randomInteger() #private key\n",
    "\n",
    "B = E.super_mult(G,b)\n",
    "B #public key"
   ]
  },
  {
   "cell_type": "markdown",
   "metadata": {},
   "source": [
    "### Secret Keys"
   ]
  },
  {
   "cell_type": "code",
   "execution_count": 42,
   "metadata": {},
   "outputs": [
    {
     "data": {
      "text/plain": [
       "True"
      ]
     },
     "execution_count": 42,
     "metadata": {},
     "output_type": "execute_result"
    }
   ],
   "source": [
    "s_a = E.super_mult(B,a)\n",
    "s_b = E.super_mult(A,b)\n",
    "\n",
    "s = s_b\n",
    "\n",
    "#Testing\n",
    "s_b == s_a"
   ]
  },
  {
   "cell_type": "code",
   "execution_count": 48,
   "metadata": {},
   "outputs": [
    {
     "data": {
      "text/plain": [
       "913"
      ]
     },
     "execution_count": 48,
     "metadata": {},
     "output_type": "execute_result"
    }
   ],
   "source": [
    "#creating scalar quantity for encryption and decryption\n",
    "S = s[0] + s[1]\n",
    "S"
   ]
  },
  {
   "cell_type": "markdown",
   "metadata": {},
   "source": [
    "## A Encrypting"
   ]
  },
  {
   "cell_type": "code",
   "execution_count": 53,
   "metadata": {},
   "outputs": [],
   "source": [
    "def encrypt(plain, secret_key):\n",
    "    X=[]\n",
    "    M=0\n",
    "    for i in plain:\n",
    "        M = ord(i)\n",
    "        c= pow(M*secret_key,1,p)\n",
    "        X.append(c)\n",
    "    return (X)"
   ]
  },
  {
   "cell_type": "code",
   "execution_count": 54,
   "metadata": {},
   "outputs": [
    {
     "name": "stdout",
     "output_type": "stream",
     "text": [
      "[947, 348, 937, 937, 775, 525, 206, 505, 186, 132, 559, 206, 132, 559, 206, 142, 250, 196, 947]\n"
     ]
    }
   ],
   "source": [
    "plaintext = \"Hello, this is ECDH\"\n",
    "cipher = encrypt(plaintext, S)\n",
    "print(cipher)"
   ]
  },
  {
   "cell_type": "markdown",
   "metadata": {},
   "source": [
    "## B Decrypting"
   ]
  },
  {
   "cell_type": "code",
   "execution_count": 55,
   "metadata": {},
   "outputs": [],
   "source": [
    "def decrypt(cipher,secret_key):\n",
    "    X=''\n",
    "    M=0\n",
    "    for i in cipher:\n",
    "        x = pow(i*secret_key, 1, p)\n",
    "        M = chr(x)\n",
    "        X+=M\n",
    "    return (X)"
   ]
  },
  {
   "cell_type": "code",
   "execution_count": 56,
   "metadata": {},
   "outputs": [
    {
     "ename": "TypeError",
     "evalue": "can only concatenate str (not \"int\") to str",
     "output_type": "error",
     "traceback": [
      "\u001b[1;31m---------------------------------------------------------------------------\u001b[0m",
      "\u001b[1;31mTypeError\u001b[0m                                 Traceback (most recent call last)",
      "\u001b[1;32mc:\\Users\\Aaryan Nagpal\\OneDrive - International Foundation For Research and Education (Ashoka University)\\Documents\\Projects\\Cryptography\\ECC_Cryptography\\ECDH.ipynb Cell 32\u001b[0m in \u001b[0;36m<cell line: 1>\u001b[1;34m()\u001b[0m\n\u001b[1;32m----> <a href='vscode-notebook-cell:/c%3A/Users/Aaryan%20Nagpal/OneDrive%20-%20International%20Foundation%20For%20Research%20and%20Education%20%28Ashoka%20University%29/Documents/Projects/Cryptography/ECC_Cryptography/ECDH.ipynb#X46sZmlsZQ%3D%3D?line=0'>1</a>\u001b[0m message \u001b[39m=\u001b[39m decrypt(cipher, S)\n\u001b[0;32m      <a href='vscode-notebook-cell:/c%3A/Users/Aaryan%20Nagpal/OneDrive%20-%20International%20Foundation%20For%20Research%20and%20Education%20%28Ashoka%20University%29/Documents/Projects/Cryptography/ECC_Cryptography/ECDH.ipynb#X46sZmlsZQ%3D%3D?line=1'>2</a>\u001b[0m \u001b[39mprint\u001b[39m(message)\n",
      "\u001b[1;32mc:\\Users\\Aaryan Nagpal\\OneDrive - International Foundation For Research and Education (Ashoka University)\\Documents\\Projects\\Cryptography\\ECC_Cryptography\\ECDH.ipynb Cell 32\u001b[0m in \u001b[0;36mdecrypt\u001b[1;34m(cipher, secret_key)\u001b[0m\n\u001b[0;32m      <a href='vscode-notebook-cell:/c%3A/Users/Aaryan%20Nagpal/OneDrive%20-%20International%20Foundation%20For%20Research%20and%20Education%20%28Ashoka%20University%29/Documents/Projects/Cryptography/ECC_Cryptography/ECDH.ipynb#X46sZmlsZQ%3D%3D?line=4'>5</a>\u001b[0m     x \u001b[39m=\u001b[39m \u001b[39mpow\u001b[39m(i\u001b[39m*\u001b[39msecret_key, \u001b[39m1\u001b[39m, p)\n\u001b[0;32m      <a href='vscode-notebook-cell:/c%3A/Users/Aaryan%20Nagpal/OneDrive%20-%20International%20Foundation%20For%20Research%20and%20Education%20%28Ashoka%20University%29/Documents/Projects/Cryptography/ECC_Cryptography/ECDH.ipynb#X46sZmlsZQ%3D%3D?line=5'>6</a>\u001b[0m     M \u001b[39m=\u001b[39m \u001b[39mchr\u001b[39m(x)\n\u001b[1;32m----> <a href='vscode-notebook-cell:/c%3A/Users/Aaryan%20Nagpal/OneDrive%20-%20International%20Foundation%20For%20Research%20and%20Education%20%28Ashoka%20University%29/Documents/Projects/Cryptography/ECC_Cryptography/ECDH.ipynb#X46sZmlsZQ%3D%3D?line=6'>7</a>\u001b[0m     X\u001b[39m+\u001b[39m\u001b[39m=\u001b[39mx\n\u001b[0;32m      <a href='vscode-notebook-cell:/c%3A/Users/Aaryan%20Nagpal/OneDrive%20-%20International%20Foundation%20For%20Research%20and%20Education%20%28Ashoka%20University%29/Documents/Projects/Cryptography/ECC_Cryptography/ECDH.ipynb#X46sZmlsZQ%3D%3D?line=7'>8</a>\u001b[0m \u001b[39mreturn\u001b[39;00m (X)\n",
      "\u001b[1;31mTypeError\u001b[0m: can only concatenate str (not \"int\") to str"
     ]
    }
   ],
   "source": [
    "message = decrypt(cipher, S)\n",
    "print(message)"
   ]
  }
 ],
 "metadata": {
  "kernelspec": {
   "display_name": "Python 3.9.7 ('base')",
   "language": "python",
   "name": "python3"
  },
  "language_info": {
   "codemirror_mode": {
    "name": "ipython",
    "version": 3
   },
   "file_extension": ".py",
   "mimetype": "text/x-python",
   "name": "python",
   "nbconvert_exporter": "python",
   "pygments_lexer": "ipython3",
   "version": "3.9.13"
  },
  "orig_nbformat": 4,
  "vscode": {
   "interpreter": {
    "hash": "cf36844fffeb11783a914f98448720fb0893899eb07759e4a0e32f8519f6ff78"
   }
  }
 },
 "nbformat": 4,
 "nbformat_minor": 2
}
