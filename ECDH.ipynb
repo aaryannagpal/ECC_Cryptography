{
 "cells": [
  {
   "cell_type": "markdown",
   "metadata": {},
   "source": [
    "# Elliptical Cryptography - Diffe-Hellman"
   ]
  },
  {
   "cell_type": "markdown",
   "metadata": {},
   "source": [
    "### Importing the necessary modules"
   ]
  },
  {
   "cell_type": "code",
   "execution_count": 117,
   "metadata": {},
   "outputs": [],
   "source": [
    "from EllipticalCurve import *\n",
    "import random\n",
    "import numpy as np\n",
    "from math import ceil, floor, log\n",
    "import matplotlib.pyplot as plt"
   ]
  },
  {
   "cell_type": "markdown",
   "metadata": {},
   "source": [
    "## Creating Generator"
   ]
  },
  {
   "cell_type": "markdown",
   "metadata": {},
   "source": [
    "### Ferman Test to check primality"
   ]
  },
  {
   "cell_type": "code",
   "execution_count": 118,
   "metadata": {},
   "outputs": [],
   "source": [
    "def checkPrime(a):\n",
    "    if a==2:\n",
    "        return True\n",
    "    i=0\n",
    "    while i<5:\n",
    "        p=np.random.randint(2,20)\n",
    "        if pow(p,a-1,a)!=1:\n",
    "            return False\n",
    "        else:\n",
    "            return True\n",
    "        i+=1"
   ]
  },
  {
   "cell_type": "markdown",
   "metadata": {},
   "source": [
    "### Generating a Prime Number"
   ]
  },
  {
   "cell_type": "code",
   "execution_count": 119,
   "metadata": {},
   "outputs": [],
   "source": [
    "def LargePrime(k):  \n",
    "    \n",
    "    b=100*(log(k,2)+1) #number of attempts max\n",
    "    while b>0:\n",
    "        n = random.randrange(2**(k-1),2**(k))\n",
    "        b-=1\n",
    "        if checkPrime(n) == True:\n",
    "            return n\n",
    "    return \"Failure in computing\""
   ]
  },
  {
   "cell_type": "markdown",
   "metadata": {},
   "source": [
    "### Creating a prime number $p$"
   ]
  },
  {
   "cell_type": "code",
   "execution_count": 120,
   "metadata": {},
   "outputs": [
    {
     "data": {
      "text/plain": [
       "709"
      ]
     },
     "execution_count": 120,
     "metadata": {},
     "output_type": "execute_result"
    }
   ],
   "source": [
    "p = LargePrime(10) #to have a prime number >= 128, which are the same number of characters in the ASCII table, so that infinity does not come\n",
    "p"
   ]
  },
  {
   "cell_type": "markdown",
   "metadata": {},
   "source": [
    "### Creating an ECC"
   ]
  },
  {
   "cell_type": "code",
   "execution_count": 121,
   "metadata": {},
   "outputs": [],
   "source": [
    "def ECC_Variables(k = 10):\n",
    "    a = random.randint(0,pow(2,k-1))\n",
    "    b = random.randint(0,pow(2,k-1))\n",
    "    c = 4*pow(a,3) + 27*pow(b,2)\n",
    "    if c == 0:\n",
    "        ECC_Variables()\n",
    "    else:\n",
    "        return a,b\n",
    "\n",
    "X,Y = ECC_Variables()"
   ]
  },
  {
   "cell_type": "markdown",
   "metadata": {},
   "source": [
    "### Declaring $E$"
   ]
  },
  {
   "cell_type": "code",
   "execution_count": 122,
   "metadata": {},
   "outputs": [],
   "source": [
    "E = ECC(X,Y,p)"
   ]
  },
  {
   "cell_type": "markdown",
   "metadata": {},
   "source": [
    "### Declaring $G$"
   ]
  },
  {
   "cell_type": "code",
   "execution_count": 123,
   "metadata": {},
   "outputs": [],
   "source": [
    "def GenCheck(G):\n",
    "    n = []\n",
    "    for i in range(p+1):\n",
    "        if E.super_mult(G,i) == inf:\n",
    "            n.append(i)\n",
    "    if len(n) == 1:\n",
    "        if n[0] > 0:\n",
    "            return True\n",
    "    else:\n",
    "        return False\n",
    "\n",
    "def Gen():\n",
    "    E_g = E.points\n",
    "    G = random.choice(E_g)\n",
    "    while GenCheck(G) != True:\n",
    "        E_g.remove(G)\n",
    "        G = random.choice(E_g)\n",
    "    if G == None:\n",
    "        a = \"No Generator Found\"\n",
    "        return a\n",
    "    return G\n",
    "\n",
    "G = Gen()\n",
    "#get checked\n",
    "\n",
    "##Researched and found that to make a G is actually a very very tough"
   ]
  },
  {
   "cell_type": "code",
   "execution_count": 124,
   "metadata": {},
   "outputs": [
    {
     "name": "stdout",
     "output_type": "stream",
     "text": [
      "696\n"
     ]
    }
   ],
   "source": [
    "#testing G\n",
    "for i in range(p):\n",
    "    if E.super_mult(G,i) == inf:\n",
    "        print(i)\n",
    "\n",
    "#Cyclic Group Order"
   ]
  },
  {
   "cell_type": "markdown",
   "metadata": {},
   "source": [
    "## Message Exchange\n",
    "\n",
    "We assume the generator $G$ and Elliptic Curve $E$ have already been shared between the sender and recipient."
   ]
  },
  {
   "cell_type": "code",
   "execution_count": 125,
   "metadata": {},
   "outputs": [],
   "source": [
    "def encrypt(plain, receiver_public_key, sender_private_key):\n",
    "    X=[]\n",
    "    M=0\n",
    "    p,B = receiver_public_key\n",
    "    S = E.super_mult(B,sender_private_key)\n",
    "    cipher = S[0] + S[1]\n",
    "    for i in plain:\n",
    "        M = ord(i)\n",
    "        c = cipher*M     #for now, we only multiply\n",
    "        X.append(c)\n",
    "    return (X)"
   ]
  },
  {
   "cell_type": "code",
   "execution_count": 126,
   "metadata": {},
   "outputs": [],
   "source": [
    "def decrypt(cipher,receiver_private_key):\n",
    "    X=''\n",
    "    M=0\n",
    "    ciphertext,sender_public_key = cipher\n",
    "    S = E.super_mult(sender_public_key,receiver_private_key)\n",
    "    m = S[0] + S[1]\n",
    "    for i in ciphertext:\n",
    "        x = int(i/m)         #reversing the multiplication\n",
    "        M = chr(x)\n",
    "        X+=M\n",
    "    return (X)"
   ]
  },
  {
   "cell_type": "markdown",
   "metadata": {},
   "source": [
    "### For creating Public Keys"
   ]
  },
  {
   "cell_type": "code",
   "execution_count": 127,
   "metadata": {},
   "outputs": [],
   "source": [
    "def randomInteger(k = 6):\n",
    "    a = random.randint(0,pow(2,k-1))\n",
    "    return a"
   ]
  },
  {
   "cell_type": "markdown",
   "metadata": {},
   "source": [
    "### B's Public Key"
   ]
  },
  {
   "cell_type": "code",
   "execution_count": 128,
   "metadata": {},
   "outputs": [],
   "source": [
    "b = randomInteger() #private key\n",
    "\n",
    "B = E.super_mult(G,b)\n",
    "\n",
    "public_key = (p,B)"
   ]
  },
  {
   "cell_type": "markdown",
   "metadata": {},
   "source": [
    "### A's Public Key (using B's Public Key)"
   ]
  },
  {
   "cell_type": "code",
   "execution_count": 129,
   "metadata": {},
   "outputs": [],
   "source": [
    "a = randomInteger() #private key\n",
    "A = E.super_mult(G,a)"
   ]
  },
  {
   "cell_type": "markdown",
   "metadata": {},
   "source": [
    "## A Encrypting"
   ]
  },
  {
   "cell_type": "code",
   "execution_count": 130,
   "metadata": {},
   "outputs": [],
   "source": [
    "plaintext = \"Hello, this is ECDH\"\n",
    "ciphertext = encrypt(plaintext, public_key, a)\n",
    "\n",
    "#print(ciphertext)\n",
    "\n",
    "cipher = (ciphertext, A)"
   ]
  },
  {
   "cell_type": "markdown",
   "metadata": {},
   "source": [
    "## B Decrypting"
   ]
  },
  {
   "cell_type": "code",
   "execution_count": 131,
   "metadata": {},
   "outputs": [
    {
     "name": "stdout",
     "output_type": "stream",
     "text": [
      "Hello, this is ECDH\n"
     ]
    }
   ],
   "source": [
    "message = decrypt(cipher, b)\n",
    "print(message)"
   ]
  },
  {
   "cell_type": "markdown",
   "metadata": {},
   "source": [
    "## Verification"
   ]
  },
  {
   "cell_type": "code",
   "execution_count": 132,
   "metadata": {},
   "outputs": [
    {
     "data": {
      "text/plain": [
       "True"
      ]
     },
     "execution_count": 132,
     "metadata": {},
     "output_type": "execute_result"
    }
   ],
   "source": [
    "message == plaintext"
   ]
  }
 ],
 "metadata": {
  "kernelspec": {
   "display_name": "Python 3.9.7 ('base')",
   "language": "python",
   "name": "python3"
  },
  "language_info": {
   "codemirror_mode": {
    "name": "ipython",
    "version": 3
   },
   "file_extension": ".py",
   "mimetype": "text/x-python",
   "name": "python",
   "nbconvert_exporter": "python",
   "pygments_lexer": "ipython3",
   "version": "3.9.13"
  },
  "orig_nbformat": 4,
  "vscode": {
   "interpreter": {
    "hash": "cf36844fffeb11783a914f98448720fb0893899eb07759e4a0e32f8519f6ff78"
   }
  }
 },
 "nbformat": 4,
 "nbformat_minor": 2
}
