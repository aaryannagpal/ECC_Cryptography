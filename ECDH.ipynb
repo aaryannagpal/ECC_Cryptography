{
 "cells": [
  {
   "cell_type": "markdown",
   "metadata": {},
   "source": [
    "# Elliptical Cryptography - Diffe-Hellman"
   ]
  },
  {
   "cell_type": "markdown",
   "metadata": {},
   "source": [
    "### Importing the necessary modules"
   ]
  },
  {
   "cell_type": "code",
   "execution_count": 382,
   "metadata": {},
   "outputs": [],
   "source": [
    "from EllipticalCurve import *\n",
    "import random\n",
    "import numpy as np\n",
    "from math import ceil, floor, log\n",
    "import matplotlib.pyplot as plt"
   ]
  },
  {
   "cell_type": "markdown",
   "metadata": {},
   "source": [
    "## Creating Generator"
   ]
  },
  {
   "cell_type": "markdown",
   "metadata": {},
   "source": [
    "### Ferman Test to check primality"
   ]
  },
  {
   "cell_type": "code",
   "execution_count": 383,
   "metadata": {},
   "outputs": [],
   "source": [
    "def checkPrime(a):\n",
    "    if a==2:\n",
    "        return True\n",
    "    i=0\n",
    "    while i<5:\n",
    "        p=np.random.randint(2,20)\n",
    "        if pow(p,a-1,a)!=1:\n",
    "            return False\n",
    "        else:\n",
    "            return True\n",
    "        i+=1"
   ]
  },
  {
   "cell_type": "markdown",
   "metadata": {},
   "source": [
    "### Generating a Prime Number"
   ]
  },
  {
   "cell_type": "code",
   "execution_count": 384,
   "metadata": {},
   "outputs": [],
   "source": [
    "def LargePrime(k):  \n",
    "    \n",
    "    b=100*(log(k,2)+1) #number of attempts max\n",
    "    while b>0:\n",
    "        n = random.randrange(2**(k-1),2**(k))\n",
    "        b-=1\n",
    "        if checkPrime(n) == True:\n",
    "            return n\n",
    "    return \"Failure in computing\""
   ]
  },
  {
   "cell_type": "markdown",
   "metadata": {},
   "source": [
    "### Creating a prime number $p$"
   ]
  },
  {
   "cell_type": "code",
   "execution_count": 385,
   "metadata": {},
   "outputs": [
    {
     "data": {
      "text/plain": [
       "541"
      ]
     },
     "execution_count": 385,
     "metadata": {},
     "output_type": "execute_result"
    }
   ],
   "source": [
    "p = LargePrime(10) #to have a prime number >= 128, which are the same number of characters in the ASCII table, so that infinity does not come\n",
    "p"
   ]
  },
  {
   "cell_type": "markdown",
   "metadata": {},
   "source": [
    "### Creating an ECC"
   ]
  },
  {
   "cell_type": "code",
   "execution_count": 386,
   "metadata": {},
   "outputs": [],
   "source": [
    "def ECC_Variables(k = 10):\n",
    "    a = random.randint(0,pow(2,k-1))\n",
    "    b = random.randint(0,pow(2,k-1))\n",
    "    c = 4*pow(a,3) + 27*pow(b,2)\n",
    "    if c == 0:\n",
    "        ECC_Variables()\n",
    "    else:\n",
    "        return a,b\n",
    "\n",
    "X,Y = ECC_Variables()"
   ]
  },
  {
   "cell_type": "markdown",
   "metadata": {},
   "source": [
    "### Declaring $E$"
   ]
  },
  {
   "cell_type": "code",
   "execution_count": 387,
   "metadata": {},
   "outputs": [],
   "source": [
    "E = ECC(X,Y,p)"
   ]
  },
  {
   "cell_type": "markdown",
   "metadata": {},
   "source": [
    "### Declaring $G$"
   ]
  },
  {
   "cell_type": "code",
   "execution_count": 390,
   "metadata": {},
   "outputs": [
    {
     "ename": "TypeError",
     "evalue": "object of type 'NoneType' has no len()",
     "output_type": "error",
     "traceback": [
      "\u001b[1;31m---------------------------------------------------------------------------\u001b[0m",
      "\u001b[1;31mTypeError\u001b[0m                                 Traceback (most recent call last)",
      "\u001b[1;32mc:\\Users\\Aaryan Nagpal\\OneDrive - International Foundation For Research and Education (Ashoka University)\\Documents\\Projects\\Cryptography\\ECC_Cryptography\\ECDH.ipynb Cell 16\u001b[0m in \u001b[0;36m<cell line: 23>\u001b[1;34m()\u001b[0m\n\u001b[0;32m     <a href='vscode-notebook-cell:/c%3A/Users/Aaryan%20Nagpal/OneDrive%20-%20International%20Foundation%20For%20Research%20and%20Education%20%28Ashoka%20University%29/Documents/Projects/Cryptography/ECC_Cryptography/ECDH.ipynb#X35sZmlsZQ%3D%3D?line=19'>20</a>\u001b[0m         \u001b[39mreturn\u001b[39;00m a\n\u001b[0;32m     <a href='vscode-notebook-cell:/c%3A/Users/Aaryan%20Nagpal/OneDrive%20-%20International%20Foundation%20For%20Research%20and%20Education%20%28Ashoka%20University%29/Documents/Projects/Cryptography/ECC_Cryptography/ECDH.ipynb#X35sZmlsZQ%3D%3D?line=20'>21</a>\u001b[0m     \u001b[39mreturn\u001b[39;00m G\n\u001b[1;32m---> <a href='vscode-notebook-cell:/c%3A/Users/Aaryan%20Nagpal/OneDrive%20-%20International%20Foundation%20For%20Research%20and%20Education%20%28Ashoka%20University%29/Documents/Projects/Cryptography/ECC_Cryptography/ECDH.ipynb#X35sZmlsZQ%3D%3D?line=22'>23</a>\u001b[0m G \u001b[39m=\u001b[39m Gen()\n",
      "\u001b[1;32mc:\\Users\\Aaryan Nagpal\\OneDrive - International Foundation For Research and Education (Ashoka University)\\Documents\\Projects\\Cryptography\\ECC_Cryptography\\ECDH.ipynb Cell 16\u001b[0m in \u001b[0;36mGen\u001b[1;34m()\u001b[0m\n\u001b[0;32m     <a href='vscode-notebook-cell:/c%3A/Users/Aaryan%20Nagpal/OneDrive%20-%20International%20Foundation%20For%20Research%20and%20Education%20%28Ashoka%20University%29/Documents/Projects/Cryptography/ECC_Cryptography/ECDH.ipynb#X35sZmlsZQ%3D%3D?line=14'>15</a>\u001b[0m \u001b[39mwhile\u001b[39;00m GenCheck(G) \u001b[39m!=\u001b[39m \u001b[39mTrue\u001b[39;00m:\n\u001b[0;32m     <a href='vscode-notebook-cell:/c%3A/Users/Aaryan%20Nagpal/OneDrive%20-%20International%20Foundation%20For%20Research%20and%20Education%20%28Ashoka%20University%29/Documents/Projects/Cryptography/ECC_Cryptography/ECDH.ipynb#X35sZmlsZQ%3D%3D?line=15'>16</a>\u001b[0m     E_g \u001b[39m=\u001b[39m E_g\u001b[39m.\u001b[39mremove(G)\n\u001b[1;32m---> <a href='vscode-notebook-cell:/c%3A/Users/Aaryan%20Nagpal/OneDrive%20-%20International%20Foundation%20For%20Research%20and%20Education%20%28Ashoka%20University%29/Documents/Projects/Cryptography/ECC_Cryptography/ECDH.ipynb#X35sZmlsZQ%3D%3D?line=16'>17</a>\u001b[0m     G \u001b[39m=\u001b[39m random\u001b[39m.\u001b[39;49mchoice(E_g)\n\u001b[0;32m     <a href='vscode-notebook-cell:/c%3A/Users/Aaryan%20Nagpal/OneDrive%20-%20International%20Foundation%20For%20Research%20and%20Education%20%28Ashoka%20University%29/Documents/Projects/Cryptography/ECC_Cryptography/ECDH.ipynb#X35sZmlsZQ%3D%3D?line=17'>18</a>\u001b[0m \u001b[39mif\u001b[39;00m G \u001b[39m==\u001b[39m \u001b[39mNone\u001b[39;00m:\n\u001b[0;32m     <a href='vscode-notebook-cell:/c%3A/Users/Aaryan%20Nagpal/OneDrive%20-%20International%20Foundation%20For%20Research%20and%20Education%20%28Ashoka%20University%29/Documents/Projects/Cryptography/ECC_Cryptography/ECDH.ipynb#X35sZmlsZQ%3D%3D?line=18'>19</a>\u001b[0m     a \u001b[39m=\u001b[39m \u001b[39m\"\u001b[39m\u001b[39mNo Generator Found\u001b[39m\u001b[39m\"\u001b[39m\n",
      "File \u001b[1;32mc:\\Users\\Aaryan Nagpal\\anaconda3\\lib\\random.py:346\u001b[0m, in \u001b[0;36mRandom.choice\u001b[1;34m(self, seq)\u001b[0m\n\u001b[0;32m    344\u001b[0m \u001b[39m\"\"\"Choose a random element from a non-empty sequence.\"\"\"\u001b[39;00m\n\u001b[0;32m    345\u001b[0m \u001b[39m# raises IndexError if seq is empty\u001b[39;00m\n\u001b[1;32m--> 346\u001b[0m \u001b[39mreturn\u001b[39;00m seq[\u001b[39mself\u001b[39m\u001b[39m.\u001b[39m_randbelow(\u001b[39mlen\u001b[39;49m(seq))]\n",
      "\u001b[1;31mTypeError\u001b[0m: object of type 'NoneType' has no len()"
     ]
    }
   ],
   "source": [
    "def GenCheck(G):\n",
    "    n = []\n",
    "    for i in range(p+1):\n",
    "        if E.super_mult(G,i) == inf:\n",
    "            n.append(i)\n",
    "    if len(n) == 1:\n",
    "        if n[0] > 0:\n",
    "            return True\n",
    "    else:\n",
    "        return False\n",
    "\n",
    "def Gen():\n",
    "    E_g = E.points\n",
    "    G = random.choice(E_g)\n",
    "    while GenCheck(G) != True:\n",
    "        E_g.remove(G)\n",
    "        G = random.choice(E_g)\n",
    "    if G == None:\n",
    "        a = \"No Generator Found\"\n",
    "        return a\n",
    "    return G\n",
    "\n",
    "G = Gen()\n",
    "#get checked\n",
    "\n",
    "##Researched and found that to make a G is actually a very very tough"
   ]
  },
  {
   "cell_type": "code",
   "execution_count": null,
   "metadata": {},
   "outputs": [
    {
     "name": "stdout",
     "output_type": "stream",
     "text": [
      "368\n"
     ]
    }
   ],
   "source": [
    "#testing G\n",
    "for i in range(p):\n",
    "    if E.super_mult(G,i) == inf:\n",
    "        print(i)"
   ]
  },
  {
   "cell_type": "markdown",
   "metadata": {},
   "source": [
    "## Creating Public Keys"
   ]
  },
  {
   "cell_type": "code",
   "execution_count": null,
   "metadata": {},
   "outputs": [],
   "source": [
    "def randomInteger(k = 6):\n",
    "    a = random.randint(0,pow(2,k-1))\n",
    "    return a"
   ]
  },
  {
   "cell_type": "markdown",
   "metadata": {},
   "source": [
    "### A"
   ]
  },
  {
   "cell_type": "code",
   "execution_count": null,
   "metadata": {},
   "outputs": [
    {
     "data": {
      "text/plain": [
       "(423, 583)"
      ]
     },
     "execution_count": 354,
     "metadata": {},
     "output_type": "execute_result"
    }
   ],
   "source": [
    "a = randomInteger() #private key\n",
    "\n",
    "A = E.super_mult(G,a)\n",
    "A #public key"
   ]
  },
  {
   "cell_type": "markdown",
   "metadata": {},
   "source": [
    "### B"
   ]
  },
  {
   "cell_type": "code",
   "execution_count": null,
   "metadata": {},
   "outputs": [
    {
     "data": {
      "text/plain": [
       "(618, 523)"
      ]
     },
     "execution_count": 355,
     "metadata": {},
     "output_type": "execute_result"
    }
   ],
   "source": [
    "b = randomInteger() #private key\n",
    "\n",
    "B = E.super_mult(G,b)\n",
    "B #public key"
   ]
  },
  {
   "cell_type": "markdown",
   "metadata": {},
   "source": [
    "### Secret Keys"
   ]
  },
  {
   "cell_type": "code",
   "execution_count": null,
   "metadata": {},
   "outputs": [
    {
     "data": {
      "text/plain": [
       "True"
      ]
     },
     "execution_count": 356,
     "metadata": {},
     "output_type": "execute_result"
    }
   ],
   "source": [
    "s_a = E.super_mult(B,a)\n",
    "s_b = E.super_mult(A,b)\n",
    "#Testing\n",
    "s_b == s_a"
   ]
  },
  {
   "cell_type": "markdown",
   "metadata": {},
   "source": [
    "## A Encrypting"
   ]
  },
  {
   "cell_type": "markdown",
   "metadata": {},
   "source": [
    "def encrypt(plain, sender_pvt_key, receiver_pub_key):\n",
    "    X=[]\n",
    "    M=0\n",
    "    for i in plain:\n",
    "        M = ord(i)\n",
    "        c=E.super_mult(sender_pvt_key,M)\n",
    "        X.append(c)\n",
    "    return (X)"
   ]
  },
  {
   "cell_type": "markdown",
   "metadata": {},
   "source": [
    "plaintext = \"Hello, this is ECDH\"\n",
    "cipher = encrypt(plaintext, a, B)\n",
    "print(cipher)"
   ]
  },
  {
   "cell_type": "markdown",
   "metadata": {},
   "source": [
    "## B Decrypting"
   ]
  },
  {
   "cell_type": "markdown",
   "metadata": {},
   "source": [
    "def decrypt(cipher,key):\n",
    "    X=''\n",
    "    M=0\n",
    "    for i in cipher:\n",
    "        c=E.super_mult(key,)\n",
    "    return (X)"
   ]
  }
 ],
 "metadata": {
  "kernelspec": {
   "display_name": "Python 3.9.7 ('base')",
   "language": "python",
   "name": "python3"
  },
  "language_info": {
   "codemirror_mode": {
    "name": "ipython",
    "version": 3
   },
   "file_extension": ".py",
   "mimetype": "text/x-python",
   "name": "python",
   "nbconvert_exporter": "python",
   "pygments_lexer": "ipython3",
   "version": "3.9.13"
  },
  "orig_nbformat": 4,
  "vscode": {
   "interpreter": {
    "hash": "cf36844fffeb11783a914f98448720fb0893899eb07759e4a0e32f8519f6ff78"
   }
  }
 },
 "nbformat": 4,
 "nbformat_minor": 2
}
